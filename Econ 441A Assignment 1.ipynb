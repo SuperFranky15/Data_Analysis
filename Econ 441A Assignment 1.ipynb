{
 "cells": [
  {
   "cell_type": "markdown",
   "id": "5dfbb6e3",
   "metadata": {},
   "source": [
    "# Econ 441A Assignment 1\n",
    "## Juntao Li\n",
    "## Student ID: 906092273"
   ]
  },
  {
   "cell_type": "code",
   "execution_count": 10,
   "id": "ebc83d8a",
   "metadata": {},
   "outputs": [],
   "source": [
    "import wooldridge as woo\n",
    "import numpy as np\n",
    "import matplotlib.pyplot as plt\n",
    "import seaborn as sns"
   ]
  },
  {
   "cell_type": "markdown",
   "id": "d1fdb461",
   "metadata": {},
   "source": [
    "# 2/a)"
   ]
  },
  {
   "cell_type": "code",
   "execution_count": 3,
   "id": "189cd0ed",
   "metadata": {},
   "outputs": [
    {
     "data": {
      "text/plain": [
       "1388"
      ]
     },
     "execution_count": 3,
     "metadata": {},
     "output_type": "execute_result"
    }
   ],
   "source": [
    "bwght=woo.data('bwght')\n",
    "len(bwght.index)"
   ]
  },
  {
   "cell_type": "code",
   "execution_count": 4,
   "id": "761deb7d",
   "metadata": {},
   "outputs": [
    {
     "data": {
      "text/plain": [
       "212"
      ]
     },
     "execution_count": 4,
     "metadata": {},
     "output_type": "execute_result"
    }
   ],
   "source": [
    "sum(bwght.cigs!=0)"
   ]
  },
  {
   "cell_type": "markdown",
   "id": "5d9e38e1",
   "metadata": {},
   "source": [
    "#### 1388 women are in the sample. 212 of them report smoking during pregnancy."
   ]
  },
  {
   "cell_type": "markdown",
   "id": "c2d23652",
   "metadata": {},
   "source": [
    "# 2/b)"
   ]
  },
  {
   "cell_type": "code",
   "execution_count": 6,
   "id": "db3ddca4",
   "metadata": {},
   "outputs": [
    {
     "data": {
      "text/html": [
       "<div>\n",
       "<style scoped>\n",
       "    .dataframe tbody tr th:only-of-type {\n",
       "        vertical-align: middle;\n",
       "    }\n",
       "\n",
       "    .dataframe tbody tr th {\n",
       "        vertical-align: top;\n",
       "    }\n",
       "\n",
       "    .dataframe thead th {\n",
       "        text-align: right;\n",
       "    }\n",
       "</style>\n",
       "<table border=\"1\" class=\"dataframe\">\n",
       "  <thead>\n",
       "    <tr style=\"text-align: right;\">\n",
       "      <th></th>\n",
       "      <th>faminc</th>\n",
       "      <th>cigtax</th>\n",
       "      <th>cigprice</th>\n",
       "      <th>bwght</th>\n",
       "      <th>fatheduc</th>\n",
       "      <th>motheduc</th>\n",
       "      <th>parity</th>\n",
       "      <th>male</th>\n",
       "      <th>white</th>\n",
       "      <th>cigs</th>\n",
       "      <th>lbwght</th>\n",
       "      <th>bwghtlbs</th>\n",
       "      <th>packs</th>\n",
       "      <th>lfaminc</th>\n",
       "    </tr>\n",
       "  </thead>\n",
       "  <tbody>\n",
       "    <tr>\n",
       "      <th>count</th>\n",
       "      <td>1388.000000</td>\n",
       "      <td>1388.000000</td>\n",
       "      <td>1388.000000</td>\n",
       "      <td>1388.000000</td>\n",
       "      <td>1192.000000</td>\n",
       "      <td>1387.000000</td>\n",
       "      <td>1388.000000</td>\n",
       "      <td>1388.000000</td>\n",
       "      <td>1388.000000</td>\n",
       "      <td>1388.000000</td>\n",
       "      <td>1388.000000</td>\n",
       "      <td>1388.000000</td>\n",
       "      <td>1388.000000</td>\n",
       "      <td>1388.000000</td>\n",
       "    </tr>\n",
       "    <tr>\n",
       "      <th>mean</th>\n",
       "      <td>29.026657</td>\n",
       "      <td>19.552954</td>\n",
       "      <td>130.559006</td>\n",
       "      <td>118.699568</td>\n",
       "      <td>13.186242</td>\n",
       "      <td>12.935833</td>\n",
       "      <td>1.632565</td>\n",
       "      <td>0.520893</td>\n",
       "      <td>0.784582</td>\n",
       "      <td>2.087176</td>\n",
       "      <td>4.760031</td>\n",
       "      <td>7.418723</td>\n",
       "      <td>0.104359</td>\n",
       "      <td>3.071271</td>\n",
       "    </tr>\n",
       "    <tr>\n",
       "      <th>std</th>\n",
       "      <td>18.739285</td>\n",
       "      <td>7.795598</td>\n",
       "      <td>10.244485</td>\n",
       "      <td>20.353964</td>\n",
       "      <td>2.745985</td>\n",
       "      <td>2.376728</td>\n",
       "      <td>0.894027</td>\n",
       "      <td>0.499743</td>\n",
       "      <td>0.411260</td>\n",
       "      <td>5.972688</td>\n",
       "      <td>0.190662</td>\n",
       "      <td>1.272123</td>\n",
       "      <td>0.298634</td>\n",
       "      <td>0.918065</td>\n",
       "    </tr>\n",
       "    <tr>\n",
       "      <th>min</th>\n",
       "      <td>0.500000</td>\n",
       "      <td>2.000000</td>\n",
       "      <td>103.800003</td>\n",
       "      <td>23.000000</td>\n",
       "      <td>1.000000</td>\n",
       "      <td>2.000000</td>\n",
       "      <td>1.000000</td>\n",
       "      <td>0.000000</td>\n",
       "      <td>0.000000</td>\n",
       "      <td>0.000000</td>\n",
       "      <td>3.135494</td>\n",
       "      <td>1.437500</td>\n",
       "      <td>0.000000</td>\n",
       "      <td>-0.693147</td>\n",
       "    </tr>\n",
       "    <tr>\n",
       "      <th>25%</th>\n",
       "      <td>14.500000</td>\n",
       "      <td>15.000000</td>\n",
       "      <td>122.800003</td>\n",
       "      <td>107.000000</td>\n",
       "      <td>12.000000</td>\n",
       "      <td>12.000000</td>\n",
       "      <td>1.000000</td>\n",
       "      <td>0.000000</td>\n",
       "      <td>1.000000</td>\n",
       "      <td>0.000000</td>\n",
       "      <td>4.672829</td>\n",
       "      <td>6.687500</td>\n",
       "      <td>0.000000</td>\n",
       "      <td>2.674149</td>\n",
       "    </tr>\n",
       "    <tr>\n",
       "      <th>50%</th>\n",
       "      <td>27.500000</td>\n",
       "      <td>20.000000</td>\n",
       "      <td>130.800003</td>\n",
       "      <td>120.000000</td>\n",
       "      <td>12.000000</td>\n",
       "      <td>12.000000</td>\n",
       "      <td>1.000000</td>\n",
       "      <td>1.000000</td>\n",
       "      <td>1.000000</td>\n",
       "      <td>0.000000</td>\n",
       "      <td>4.787492</td>\n",
       "      <td>7.500000</td>\n",
       "      <td>0.000000</td>\n",
       "      <td>3.314186</td>\n",
       "    </tr>\n",
       "    <tr>\n",
       "      <th>75%</th>\n",
       "      <td>37.500000</td>\n",
       "      <td>26.000000</td>\n",
       "      <td>137.000000</td>\n",
       "      <td>132.000000</td>\n",
       "      <td>16.000000</td>\n",
       "      <td>14.000000</td>\n",
       "      <td>2.000000</td>\n",
       "      <td>1.000000</td>\n",
       "      <td>1.000000</td>\n",
       "      <td>0.000000</td>\n",
       "      <td>4.882802</td>\n",
       "      <td>8.250000</td>\n",
       "      <td>0.000000</td>\n",
       "      <td>3.624341</td>\n",
       "    </tr>\n",
       "    <tr>\n",
       "      <th>max</th>\n",
       "      <td>65.000000</td>\n",
       "      <td>38.000000</td>\n",
       "      <td>152.500000</td>\n",
       "      <td>271.000000</td>\n",
       "      <td>18.000000</td>\n",
       "      <td>18.000000</td>\n",
       "      <td>6.000000</td>\n",
       "      <td>1.000000</td>\n",
       "      <td>1.000000</td>\n",
       "      <td>50.000000</td>\n",
       "      <td>5.602119</td>\n",
       "      <td>16.937500</td>\n",
       "      <td>2.500000</td>\n",
       "      <td>4.174387</td>\n",
       "    </tr>\n",
       "  </tbody>\n",
       "</table>\n",
       "</div>"
      ],
      "text/plain": [
       "            faminc       cigtax     cigprice        bwght     fatheduc  \\\n",
       "count  1388.000000  1388.000000  1388.000000  1388.000000  1192.000000   \n",
       "mean     29.026657    19.552954   130.559006   118.699568    13.186242   \n",
       "std      18.739285     7.795598    10.244485    20.353964     2.745985   \n",
       "min       0.500000     2.000000   103.800003    23.000000     1.000000   \n",
       "25%      14.500000    15.000000   122.800003   107.000000    12.000000   \n",
       "50%      27.500000    20.000000   130.800003   120.000000    12.000000   \n",
       "75%      37.500000    26.000000   137.000000   132.000000    16.000000   \n",
       "max      65.000000    38.000000   152.500000   271.000000    18.000000   \n",
       "\n",
       "          motheduc       parity         male        white         cigs  \\\n",
       "count  1387.000000  1388.000000  1388.000000  1388.000000  1388.000000   \n",
       "mean     12.935833     1.632565     0.520893     0.784582     2.087176   \n",
       "std       2.376728     0.894027     0.499743     0.411260     5.972688   \n",
       "min       2.000000     1.000000     0.000000     0.000000     0.000000   \n",
       "25%      12.000000     1.000000     0.000000     1.000000     0.000000   \n",
       "50%      12.000000     1.000000     1.000000     1.000000     0.000000   \n",
       "75%      14.000000     2.000000     1.000000     1.000000     0.000000   \n",
       "max      18.000000     6.000000     1.000000     1.000000    50.000000   \n",
       "\n",
       "            lbwght     bwghtlbs        packs      lfaminc  \n",
       "count  1388.000000  1388.000000  1388.000000  1388.000000  \n",
       "mean      4.760031     7.418723     0.104359     3.071271  \n",
       "std       0.190662     1.272123     0.298634     0.918065  \n",
       "min       3.135494     1.437500     0.000000    -0.693147  \n",
       "25%       4.672829     6.687500     0.000000     2.674149  \n",
       "50%       4.787492     7.500000     0.000000     3.314186  \n",
       "75%       4.882802     8.250000     0.000000     3.624341  \n",
       "max       5.602119    16.937500     2.500000     4.174387  "
      ]
     },
     "execution_count": 6,
     "metadata": {},
     "output_type": "execute_result"
    }
   ],
   "source": [
    "bwght.describe()"
   ]
  },
  {
   "cell_type": "markdown",
   "id": "2fe4a783",
   "metadata": {},
   "source": [
    "#### The average number of ciagrette smoked in a day is 2.087. The mean is not a good measure of the typical women’s smoking habits since it only represents the smoking habit of women during pregnancy."
   ]
  },
  {
   "cell_type": "markdown",
   "id": "a8327983",
   "metadata": {},
   "source": [
    "# 2/c)"
   ]
  },
  {
   "cell_type": "code",
   "execution_count": 7,
   "id": "52f287d0",
   "metadata": {},
   "outputs": [
    {
     "data": {
      "text/plain": [
       "faminc        0\n",
       "cigtax        0\n",
       "cigprice      0\n",
       "bwght         0\n",
       "fatheduc    196\n",
       "motheduc      1\n",
       "parity        0\n",
       "male          0\n",
       "white         0\n",
       "cigs          0\n",
       "lbwght        0\n",
       "bwghtlbs      0\n",
       "packs         0\n",
       "lfaminc       0\n",
       "dtype: int64"
      ]
     },
     "execution_count": 7,
     "metadata": {},
     "output_type": "execute_result"
    }
   ],
   "source": [
    "bwght.isnull().sum()"
   ]
  },
  {
   "cell_type": "markdown",
   "id": "129d60e2",
   "metadata": {},
   "source": [
    "#### The average fathedu is 13.186 years. And since there are 196 null values, only 1196 observations are used to compute this average."
   ]
  },
  {
   "cell_type": "markdown",
   "id": "a06a97ff",
   "metadata": {},
   "source": [
    "# 3/a)"
   ]
  },
  {
   "cell_type": "code",
   "execution_count": 8,
   "id": "4a0446a8",
   "metadata": {},
   "outputs": [
    {
     "data": {
      "image/png": "[encoded data removed]",
      "text/plain": [
       "<Figure size 432x288 with 1 Axes>"
      ]
     },
     "metadata": {
      "needs_background": "light"
     },
     "output_type": "display_data"
    },
    {
     "data": {
      "image/png": "[encoded data removed]",
      "text/plain": [
       "<Figure size 432x288 with 1 Axes>"
      ]
     },
     "metadata": {
      "needs_background": "light"
     },
     "output_type": "display_data"
    }
   ],
   "source": [
    "plt.hist(bwght.bwght,alpha=0.5,bins='fd')\n",
    "plt.title('FD Bin Number')\n",
    "plt.show()\n",
    "plt.hist(bwght.bwght,alpha=0.5,bins='sturges')\n",
    "plt.title('Sturges Bin Number')\n",
    "plt.show()"
   ]
  },
  {
   "cell_type": "markdown",
   "id": "56f93dc9",
   "metadata": {},
   "source": [
    "#### FD method provides the histogram with more detailed edges but sometimes these edges may be useless and it will be harder for readers to understand the overall distribution. Sturges method, on the other side, provides histograms which can be read directly. However, it does not contain that much detailed edges as FD method does and the distribution may be too basic."
   ]
  },
  {
   "cell_type": "markdown",
   "id": "d56cdb09",
   "metadata": {},
   "source": [
    "# 3/b)"
   ]
  },
  {
   "cell_type": "code",
   "execution_count": 11,
   "id": "c3f48126",
   "metadata": {},
   "outputs": [
    {
     "data": {
      "image/png": "[encoded data removed]",
      "text/plain": [
       "<Figure size 1152x648 with 1 Axes>"
      ]
     },
     "metadata": {
      "needs_background": "light"
     },
     "output_type": "display_data"
    }
   ],
   "source": [
    "plt.figure(figsize=(16,9))\n",
    "plt.title('Historgram of Birth Weight')\n",
    "sns.histplot(bwght.bwght,stat='density')\n",
    "sns.kdeplot(bwght.bwght,color='red')\n",
    "plt.grid()"
   ]
  },
  {
   "cell_type": "markdown",
   "id": "3daccff3",
   "metadata": {},
   "source": [
    "# 3/c)"
   ]
  },
  {
   "cell_type": "code",
   "execution_count": 12,
   "id": "c5e403ad",
   "metadata": {},
   "outputs": [
    {
     "data": {
      "image/png": "[encoded data removed]",
      "text/plain": [
       "<Figure size 1152x648 with 1 Axes>"
      ]
     },
     "metadata": {
      "needs_background": "light"
     },
     "output_type": "display_data"
    }
   ],
   "source": [
    "import scipy.stats as stats\n",
    "plt.figure(figsize=(16,9))\n",
    "stats.probplot(bwght.bwght, dist=\"norm\", plot=plt)\n",
    "plt.show()"
   ]
  },
  {
   "cell_type": "markdown",
   "id": "a1bc996c",
   "metadata": {},
   "source": [
    "#### I believe bwght is approximately normally distributed since almost all the dots are on the reference line."
   ]
  },
  {
   "cell_type": "markdown",
   "id": "6409f92c",
   "metadata": {},
   "source": [
    "# 3/d)"
   ]
  },
  {
   "cell_type": "code",
   "execution_count": 13,
   "id": "2108b6fe",
   "metadata": {},
   "outputs": [
    {
     "data": {
      "image/png": "[encoded data removed]",
      "text/plain": [
       "<Figure size 1152x648 with 1 Axes>"
      ]
     },
     "metadata": {
      "needs_background": "light"
     },
     "output_type": "display_data"
    }
   ],
   "source": [
    "data=[bwght[bwght.cigs==0].bwght,bwght[bwght.cigs!=0].bwght]\n",
    "plt.figure(figsize=(16,9))\n",
    "plt.boxplot(data)\n",
    "plt.ylabel(\"Birth Weight\")\n",
    "plt.xticks([1,2],[\"Non-smoker\",\"Smoker\"])\n",
    "plt.show()"
   ]
  },
  {
   "cell_type": "markdown",
   "id": "a8246d4e",
   "metadata": {},
   "source": [
    "#### The boxplot of the non-smoker mothers has much more outliers than the boxplot of the smoker mothers. And the boxplot of the non-smoker mothers has babies with greater quartiles for their birth weights."
   ]
  },
  {
   "cell_type": "markdown",
   "id": "53e6ac9b",
   "metadata": {},
   "source": [
    "# 4/a)"
   ]
  },
  {
   "cell_type": "code",
   "execution_count": 15,
   "id": "4b9e34b2",
   "metadata": {},
   "outputs": [
    {
     "data": {
      "text/plain": [
       "Intercept    119.771900\n",
       "cigs          -0.513772\n",
       "dtype: float64"
      ]
     },
     "execution_count": 15,
     "metadata": {},
     "output_type": "execute_result"
    }
   ],
   "source": [
    "import statsmodels.formula.api as smf\n",
    "reg=smf.ols('bwght ~ cigs', data=bwght)\n",
    "results=reg.fit()\n",
    "results.params"
   ]
  },
  {
   "cell_type": "markdown",
   "id": "514dd00d",
   "metadata": {},
   "source": [
    "#### Since the coeffifient is -0.51, which is negative, then when cigarette use increases, the birth weight of new-born babies will decrease."
   ]
  },
  {
   "cell_type": "markdown",
   "id": "937700c6",
   "metadata": {},
   "source": [
    "# 4/b)"
   ]
  },
  {
   "cell_type": "markdown",
   "id": "f09b408b",
   "metadata": {},
   "source": [
    "#### When cigs=0, birth weight=119.7719-0.513772 * 0=119.7719 ounces. When cigs=3, birth weight=119.7719-0.513772 * 3=118.230584 ounces."
   ]
  },
  {
   "cell_type": "markdown",
   "id": "0c2687f2",
   "metadata": {},
   "source": [
    "# 4/c)"
   ]
  },
  {
   "cell_type": "code",
   "execution_count": 29,
   "id": "7c68b37d",
   "metadata": {},
   "outputs": [
    {
     "name": "stdout",
     "output_type": "stream",
     "text": [
      "The sum of our residual is:  5.1869619710487314e-11\n"
     ]
    }
   ],
   "source": [
    "reg=smf.ols('bwght~cigs',data=bwght)\n",
    "results=reg.fit()\n",
    "u_hat=results.resid\n",
    "prop1=u_hat.sum()\n",
    "print(\"The sum of our residual is: \",prop1)"
   ]
  },
  {
   "cell_type": "markdown",
   "id": "aa541463",
   "metadata": {},
   "source": [
    "# 4/d)"
   ]
  },
  {
   "cell_type": "code",
   "execution_count": 27,
   "id": "7f76eadd",
   "metadata": {},
   "outputs": [
    {
     "data": {
      "text/plain": [
       "[]"
      ]
     },
     "execution_count": 27,
     "metadata": {},
     "output_type": "execute_result"
    },
    {
     "data": {
      "image/png": "[encoded data removed]",
      "text/plain": [
       "<Figure size 1152x648 with 1 Axes>"
      ]
     },
     "metadata": {
      "needs_background": "light"
     },
     "output_type": "display_data"
    }
   ],
   "source": [
    "plt.figure(figsize=(16,9))\n",
    "plt.scatter(bwght['cigs'],bwght['bwght'])\n",
    "plt.plot(bwght['cigs'],results.fittedvalues,color='orange')\n",
    "plt.title(\"Birth Weight vs Cigarette Smoked per Day while Pregnant\")\n",
    "plt.xlabel(\"Cigarette Smoked per Day while Pregnant\")\n",
    "plt.ylabel(\"Birth Weight\")\n",
    "plt.plot()"
   ]
  }
 ],
 "metadata": {
  "kernelspec": {
   "display_name": "Python 3 (ipykernel)",
   "language": "python",
   "name": "python3"
  },
  "language_info": {
   "codemirror_mode": {
    "name": "ipython",
    "version": 3
   },
   "file_extension": ".py",
   "mimetype": "text/x-python",
   "name": "python",
   "nbconvert_exporter": "python",
   "pygments_lexer": "ipython3",
   "version": "3.9.12"
  }
 },
 "nbformat": 4,
 "nbformat_minor": 5
}
